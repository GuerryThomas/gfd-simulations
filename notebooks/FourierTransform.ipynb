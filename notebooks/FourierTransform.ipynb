{
 "cells": [
  {
   "cell_type": "code",
   "execution_count": 1,
   "id": "2e8eb064",
   "metadata": {},
   "outputs": [],
   "source": [
    "import numpy as np\n",
    "import matplotlib.pyplot as plt\n",
    "from scipy.integrate import solve_ivp"
   ]
  },
  {
   "cell_type": "markdown",
   "id": "0d3e259b",
   "metadata": {},
   "source": [
    "The convention for the Fourier Transform used,\n",
    "\n",
    "$\\text{FT}[f(x)] = \\hat{f}(q) = \\displaystyle \\int_{\\mathbb{R}} f(x) e^{-iqx} \\mathrm{d}x$,\n",
    "\n",
    "$\\text{FT}^{-1}[\\hat{f}(q)] = f(x) = \\displaystyle \\frac{1}{2 \\pi} \\, \\int_{\\mathbb{R}} \\hat{f}(q) e^{iqx} \\mathrm{d}q$,\n",
    "\n",
    "such that,\n",
    "\n",
    "$\\displaystyle \\int_{\\mathbb{R}} \\left [ \\partial_x f(x) \\right ] e^{-iqx} \\mathrm{d}x = \\left [ f(x) e^{-iqx} \\right ]_{\\mathbb{R}} - \\int_{\\mathbb{R}} f(x) \\left [ \\partial_x e^{-iqx} \\right ]  \\mathrm{d}x$.\n",
    "\n",
    "The following result will be used quite often, considering that our function $f(x)$ vanishes at $\\pm \\infinity$,\n",
    "\n",
    "$\\displaystyle \\int_{\\mathbb{R}} \\left [ \\partial_x f(x) \\right ] e^{-iqx} \\mathrm{d}x = i q \\int_{\\mathbb{R}} f(x) e^{-iqx} \\mathrm{d}x = i q \\hat{f}(q)$.\n",
    "\n",
    "The Fourier transform can be seen as a way to transform differentiation into multiplication by shifting into the spectral space (q-space)."
   ]
  }
 ],
 "metadata": {
  "kernelspec": {
   "display_name": "mon_env_py3",
   "language": "python",
   "name": "python3"
  },
  "language_info": {
   "codemirror_mode": {
    "name": "ipython",
    "version": 3
   },
   "file_extension": ".py",
   "mimetype": "text/x-python",
   "name": "python",
   "nbconvert_exporter": "python",
   "pygments_lexer": "ipython3",
   "version": "3.13.2"
  }
 },
 "nbformat": 4,
 "nbformat_minor": 5
}
