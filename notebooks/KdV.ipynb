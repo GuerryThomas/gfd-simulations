{
 "cells": [
  {
   "cell_type": "code",
   "execution_count": 6,
   "id": "85e647cc",
   "metadata": {},
   "outputs": [],
   "source": [
    "import numpy as np\n",
    "import matplotlib.pyplot as plt\n",
    "from scipy.integrate import solve_ivp\n",
    "import matplotlib.animation as animation\n",
    "from matplotlib import rcParams"
   ]
  },
  {
   "cell_type": "markdown",
   "id": "48ffe068",
   "metadata": {},
   "source": [
    "## Korteweg-De-Vries Equations\n",
    "\n",
    "The KdV equations models spatially in 1D non-linear, non-dissipative dispersive waves. Generally the velocity $u(x, t)$ follows the PDE \n",
    "\n",
    "$\\partial_t u (x, t) + \\partial^3_x u(x, t) = u(x, t) \\partial_x u(x, t), \\; \\; \\; \\; \\; \\; x \\in \\mathbb{R}, \\; \\; \\; t \\geq 0$,\n",
    "\n",
    "with the RHS being the non-linear, advection term and $\\partial^3_x u(x, t)$ accounting for dispersion.\n",
    "The Linearized KdV equation gets rid of the non-linear term in the original KdV equation \n",
    "\n",
    "$\\partial_t u (x, t) + \\partial^3_x u(x, t) = 0, \\; \\; \\; \\; \\; \\; x \\in \\mathbb{R}, \\; \\; \\; t \\geq 0$,\n",
    "\n",
    "with initial condition $u(x, 0) = f(x)$."
   ]
  },
  {
   "cell_type": "markdown",
   "id": "8a4a9e6d",
   "metadata": {},
   "source": [
    "By applying the Fourier transform on our Partial Differential Equation (PDE), we can write \n",
    "\n",
    "$\\text{FT} \\left [ \\partial_t u (x, t) + \\partial^3_x u(x, t) = 0 \\right ]$.\n",
    "\n",
    "It is easy to show that the equation above can be written\n",
    "\n",
    "$\\text{FT} \\left [ \\partial_t u (x, t) \\right ] + \\text{FT} \\left [ \\partial^3_x u(x, t) \\right ] = 0$."
   ]
  },
  {
   "cell_type": "markdown",
   "id": "dbcac7f8",
   "metadata": {},
   "source": [
    "We are left with the spectral KdV equations (denoting the spectral velocity $\\hat{u}(q, t) $),\n",
    "\n",
    "$\\partial_t \\hat{u}(q, t) - i q^3 \\hat{u}(q, t) = 0$,\n",
    "\n",
    "such that,\n",
    "\n",
    "$\\hat{u}(q, t) = \\hat{f}(q) e^{iq^3t}$"
   ]
  },
  {
   "cell_type": "code",
   "execution_count": 3,
   "id": "2c7800f9",
   "metadata": {},
   "outputs": [],
   "source": [
    "# Spatial parameters\n",
    "L = 100.0\n",
    "Nx = 256\n",
    "dx = L/Nx\n",
    "x = np.linspace(0, L, Nx, endpoint=False)\n",
    "\n",
    "# Time parameters\n",
    "T = 10.0\n",
    "dt = 0.001\n",
    "Nt = int(T/dt)\n",
    "\n",
    "# Initial condition\n",
    "u0 = np.cos(2*np.pi * x/L)"
   ]
  },
  {
   "cell_type": "code",
   "execution_count": 4,
   "id": "4a767e63",
   "metadata": {},
   "outputs": [],
   "source": [
    "def third_d(u, dx):\n",
    "    return (np.roll(u, -2) - 2*np.roll(u, -1) + 2*np.roll(u, 1) - np.roll(u, 2)) / (2*dx**3)"
   ]
  },
  {
   "cell_type": "code",
   "execution_count": 8,
   "id": "ac7afc5e",
   "metadata": {},
   "outputs": [
    {
     "data": {
      "image/png": "[encoded data removed]",
      "text/plain": [
       "<Figure size 640x480 with 1 Axes>"
      ]
     },
     "metadata": {},
     "output_type": "display_data"
    }
   ],
   "source": [
    "for n in range(Nt):\n",
    "    u0 = u0 - dt * third_d(u0, dx)\n",
    "    \n",
    "# Animation setup\n",
    "fig, ax = plt.subplots()\n",
    "ax.set_xlim(0, L)\n",
    "ax.set_ylim(-1.5, 1.5)\n",
    "line, = ax.plot([], [], lw=2)\n",
    "\n",
    "def init():\n",
    "    line.set_data([], [])\n",
    "    return line,\n",
    "\n",
    "def animate(i):\n",
    "    u = np.cos(2*np.pi * (x/L - i*dt/T))\n",
    "    line.set_data(x, u)\n",
    "    return line,\n",
    "\n",
    "anim = animation.FuncAnimation(fig, animate, init_func=init, frames=Nt, interval=dt*1000, blit=True)\n",
    "plt.show()\n",
    "rcParams['animation.ffmpeg_path'] = '/usr/bin/ffmpeg'"
   ]
  }
 ],
 "metadata": {
  "kernelspec": {
   "display_name": "mon_env_py3",
   "language": "python",
   "name": "python3"
  },
  "language_info": {
   "codemirror_mode": {
    "name": "ipython",
    "version": 3
   },
   "file_extension": ".py",
   "mimetype": "text/x-python",
   "name": "python",
   "nbconvert_exporter": "python",
   "pygments_lexer": "ipython3",
   "version": "3.13.2"
  }
 },
 "nbformat": 4,
 "nbformat_minor": 5
}
